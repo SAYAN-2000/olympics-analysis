{
  "nbformat": 4,
  "nbformat_minor": 0,
  "metadata": {
    "colab": {
      "provenance": [],
      "authorship_tag": "ABX9TyMDeUwTww93UNICG+lI1b1s",
      "include_colab_link": true
    },
    "kernelspec": {
      "name": "python3",
      "display_name": "Python 3"
    },
    "language_info": {
      "name": "python"
    }
  },
  "cells": [
    {
      "cell_type": "markdown",
      "metadata": {
        "id": "view-in-github",
        "colab_type": "text"
      },
      "source": [
        "<a href=\"https://colab.research.google.com/github/SAYAN-2000/olympics-analysis/blob/main/Olympics_data_analysis.ipynb\" target=\"_parent\"><img src=\"https://colab.research.google.com/assets/colab-badge.svg\" alt=\"Open In Colab\"/></a>"
      ]
    },
    {
      "cell_type": "markdown",
      "source": [
        "Analysis of olympics dataset based on age, weight and other factors."
      ],
      "metadata": {
        "id": "0ypytDw6qEO0"
      }
    },
    {
      "cell_type": "code",
      "execution_count": 30,
      "metadata": {
        "id": "LMhfCUaEjy1x"
      },
      "outputs": [],
      "source": [
        "import pandas as pd\n",
        "import numpy as np\n",
        "import matplotlib.pyplot as plt\n",
        "import seaborn as sns"
      ]
    },
    {
      "cell_type": "code",
      "source": [
        "olympics = pd.read_csv(\"athlete_events.csv\")\n",
        "olympics.head(5)"
      ],
      "metadata": {
        "colab": {
          "base_uri": "https://localhost:8080/",
          "height": 206
        },
        "id": "tLO3Y9KakrWD",
        "outputId": "99227af9-593b-407f-ded6-5614b68c1a77"
      },
      "execution_count": 31,
      "outputs": [
        {
          "output_type": "execute_result",
          "data": {
            "text/plain": [
              "   ID                      Name Sex   Age  Height  Weight            Team  \\\n",
              "0   1                 A Dijiang   M  24.0   180.0    80.0           China   \n",
              "1   2                  A Lamusi   M  23.0   170.0    60.0           China   \n",
              "2   3       Gunnar Nielsen Aaby   M  24.0     NaN     NaN         Denmark   \n",
              "3   4      Edgar Lindenau Aabye   M  34.0     NaN     NaN  Denmark/Sweden   \n",
              "4   5  Christine Jacoba Aaftink   F  21.0   185.0    82.0     Netherlands   \n",
              "\n",
              "   NOC        Games    Year  Season       City          Sport  \\\n",
              "0  CHN  1992 Summer  1992.0  Summer  Barcelona     Basketball   \n",
              "1  CHN  2012 Summer  2012.0  Summer     London           Judo   \n",
              "2  DEN  1920 Summer  1920.0  Summer  Antwerpen       Football   \n",
              "3  DEN  1900 Summer  1900.0  Summer      Paris     Tug-Of-War   \n",
              "4  NED  1988 Winter  1988.0  Winter    Calgary  Speed Skating   \n",
              "\n",
              "                              Event Medal  \n",
              "0       Basketball Men's Basketball   NaN  \n",
              "1      Judo Men's Extra-Lightweight   NaN  \n",
              "2           Football Men's Football   NaN  \n",
              "3       Tug-Of-War Men's Tug-Of-War  Gold  \n",
              "4  Speed Skating Women's 500 metres   NaN  "
            ],
            "text/html": [
              "\n",
              "  <div id=\"df-42c15c55-64d3-420b-8e1e-9a3ac6de1d6e\">\n",
              "    <div class=\"colab-df-container\">\n",
              "      <div>\n",
              "<style scoped>\n",
              "    .dataframe tbody tr th:only-of-type {\n",
              "        vertical-align: middle;\n",
              "    }\n",
              "\n",
              "    .dataframe tbody tr th {\n",
              "        vertical-align: top;\n",
              "    }\n",
              "\n",
              "    .dataframe thead th {\n",
              "        text-align: right;\n",
              "    }\n",
              "</style>\n",
              "<table border=\"1\" class=\"dataframe\">\n",
              "  <thead>\n",
              "    <tr style=\"text-align: right;\">\n",
              "      <th></th>\n",
              "      <th>ID</th>\n",
              "      <th>Name</th>\n",
              "      <th>Sex</th>\n",
              "      <th>Age</th>\n",
              "      <th>Height</th>\n",
              "      <th>Weight</th>\n",
              "      <th>Team</th>\n",
              "      <th>NOC</th>\n",
              "      <th>Games</th>\n",
              "      <th>Year</th>\n",
              "      <th>Season</th>\n",
              "      <th>City</th>\n",
              "      <th>Sport</th>\n",
              "      <th>Event</th>\n",
              "      <th>Medal</th>\n",
              "    </tr>\n",
              "  </thead>\n",
              "  <tbody>\n",
              "    <tr>\n",
              "      <th>0</th>\n",
              "      <td>1</td>\n",
              "      <td>A Dijiang</td>\n",
              "      <td>M</td>\n",
              "      <td>24.0</td>\n",
              "      <td>180.0</td>\n",
              "      <td>80.0</td>\n",
              "      <td>China</td>\n",
              "      <td>CHN</td>\n",
              "      <td>1992 Summer</td>\n",
              "      <td>1992.0</td>\n",
              "      <td>Summer</td>\n",
              "      <td>Barcelona</td>\n",
              "      <td>Basketball</td>\n",
              "      <td>Basketball Men's Basketball</td>\n",
              "      <td>NaN</td>\n",
              "    </tr>\n",
              "    <tr>\n",
              "      <th>1</th>\n",
              "      <td>2</td>\n",
              "      <td>A Lamusi</td>\n",
              "      <td>M</td>\n",
              "      <td>23.0</td>\n",
              "      <td>170.0</td>\n",
              "      <td>60.0</td>\n",
              "      <td>China</td>\n",
              "      <td>CHN</td>\n",
              "      <td>2012 Summer</td>\n",
              "      <td>2012.0</td>\n",
              "      <td>Summer</td>\n",
              "      <td>London</td>\n",
              "      <td>Judo</td>\n",
              "      <td>Judo Men's Extra-Lightweight</td>\n",
              "      <td>NaN</td>\n",
              "    </tr>\n",
              "    <tr>\n",
              "      <th>2</th>\n",
              "      <td>3</td>\n",
              "      <td>Gunnar Nielsen Aaby</td>\n",
              "      <td>M</td>\n",
              "      <td>24.0</td>\n",
              "      <td>NaN</td>\n",
              "      <td>NaN</td>\n",
              "      <td>Denmark</td>\n",
              "      <td>DEN</td>\n",
              "      <td>1920 Summer</td>\n",
              "      <td>1920.0</td>\n",
              "      <td>Summer</td>\n",
              "      <td>Antwerpen</td>\n",
              "      <td>Football</td>\n",
              "      <td>Football Men's Football</td>\n",
              "      <td>NaN</td>\n",
              "    </tr>\n",
              "    <tr>\n",
              "      <th>3</th>\n",
              "      <td>4</td>\n",
              "      <td>Edgar Lindenau Aabye</td>\n",
              "      <td>M</td>\n",
              "      <td>34.0</td>\n",
              "      <td>NaN</td>\n",
              "      <td>NaN</td>\n",
              "      <td>Denmark/Sweden</td>\n",
              "      <td>DEN</td>\n",
              "      <td>1900 Summer</td>\n",
              "      <td>1900.0</td>\n",
              "      <td>Summer</td>\n",
              "      <td>Paris</td>\n",
              "      <td>Tug-Of-War</td>\n",
              "      <td>Tug-Of-War Men's Tug-Of-War</td>\n",
              "      <td>Gold</td>\n",
              "    </tr>\n",
              "    <tr>\n",
              "      <th>4</th>\n",
              "      <td>5</td>\n",
              "      <td>Christine Jacoba Aaftink</td>\n",
              "      <td>F</td>\n",
              "      <td>21.0</td>\n",
              "      <td>185.0</td>\n",
              "      <td>82.0</td>\n",
              "      <td>Netherlands</td>\n",
              "      <td>NED</td>\n",
              "      <td>1988 Winter</td>\n",
              "      <td>1988.0</td>\n",
              "      <td>Winter</td>\n",
              "      <td>Calgary</td>\n",
              "      <td>Speed Skating</td>\n",
              "      <td>Speed Skating Women's 500 metres</td>\n",
              "      <td>NaN</td>\n",
              "    </tr>\n",
              "  </tbody>\n",
              "</table>\n",
              "</div>\n",
              "      <button class=\"colab-df-convert\" onclick=\"convertToInteractive('df-42c15c55-64d3-420b-8e1e-9a3ac6de1d6e')\"\n",
              "              title=\"Convert this dataframe to an interactive table.\"\n",
              "              style=\"display:none;\">\n",
              "        \n",
              "  <svg xmlns=\"http://www.w3.org/2000/svg\" height=\"24px\"viewBox=\"0 0 24 24\"\n",
              "       width=\"24px\">\n",
              "    <path d=\"M0 0h24v24H0V0z\" fill=\"none\"/>\n",
              "    <path d=\"M18.56 5.44l.94 2.06.94-2.06 2.06-.94-2.06-.94-.94-2.06-.94 2.06-2.06.94zm-11 1L8.5 8.5l.94-2.06 2.06-.94-2.06-.94L8.5 2.5l-.94 2.06-2.06.94zm10 10l.94 2.06.94-2.06 2.06-.94-2.06-.94-.94-2.06-.94 2.06-2.06.94z\"/><path d=\"M17.41 7.96l-1.37-1.37c-.4-.4-.92-.59-1.43-.59-.52 0-1.04.2-1.43.59L10.3 9.45l-7.72 7.72c-.78.78-.78 2.05 0 2.83L4 21.41c.39.39.9.59 1.41.59.51 0 1.02-.2 1.41-.59l7.78-7.78 2.81-2.81c.8-.78.8-2.07 0-2.86zM5.41 20L4 18.59l7.72-7.72 1.47 1.35L5.41 20z\"/>\n",
              "  </svg>\n",
              "      </button>\n",
              "      \n",
              "  <style>\n",
              "    .colab-df-container {\n",
              "      display:flex;\n",
              "      flex-wrap:wrap;\n",
              "      gap: 12px;\n",
              "    }\n",
              "\n",
              "    .colab-df-convert {\n",
              "      background-color: #E8F0FE;\n",
              "      border: none;\n",
              "      border-radius: 50%;\n",
              "      cursor: pointer;\n",
              "      display: none;\n",
              "      fill: #1967D2;\n",
              "      height: 32px;\n",
              "      padding: 0 0 0 0;\n",
              "      width: 32px;\n",
              "    }\n",
              "\n",
              "    .colab-df-convert:hover {\n",
              "      background-color: #E2EBFA;\n",
              "      box-shadow: 0px 1px 2px rgba(60, 64, 67, 0.3), 0px 1px 3px 1px rgba(60, 64, 67, 0.15);\n",
              "      fill: #174EA6;\n",
              "    }\n",
              "\n",
              "    [theme=dark] .colab-df-convert {\n",
              "      background-color: #3B4455;\n",
              "      fill: #D2E3FC;\n",
              "    }\n",
              "\n",
              "    [theme=dark] .colab-df-convert:hover {\n",
              "      background-color: #434B5C;\n",
              "      box-shadow: 0px 1px 3px 1px rgba(0, 0, 0, 0.15);\n",
              "      filter: drop-shadow(0px 1px 2px rgba(0, 0, 0, 0.3));\n",
              "      fill: #FFFFFF;\n",
              "    }\n",
              "  </style>\n",
              "\n",
              "      <script>\n",
              "        const buttonEl =\n",
              "          document.querySelector('#df-42c15c55-64d3-420b-8e1e-9a3ac6de1d6e button.colab-df-convert');\n",
              "        buttonEl.style.display =\n",
              "          google.colab.kernel.accessAllowed ? 'block' : 'none';\n",
              "\n",
              "        async function convertToInteractive(key) {\n",
              "          const element = document.querySelector('#df-42c15c55-64d3-420b-8e1e-9a3ac6de1d6e');\n",
              "          const dataTable =\n",
              "            await google.colab.kernel.invokeFunction('convertToInteractive',\n",
              "                                                     [key], {});\n",
              "          if (!dataTable) return;\n",
              "\n",
              "          const docLinkHtml = 'Like what you see? Visit the ' +\n",
              "            '<a target=\"_blank\" href=https://colab.research.google.com/notebooks/data_table.ipynb>data table notebook</a>'\n",
              "            + ' to learn more about interactive tables.';\n",
              "          element.innerHTML = '';\n",
              "          dataTable['output_type'] = 'display_data';\n",
              "          await google.colab.output.renderOutput(dataTable, element);\n",
              "          const docLink = document.createElement('div');\n",
              "          docLink.innerHTML = docLinkHtml;\n",
              "          element.appendChild(docLink);\n",
              "        }\n",
              "      </script>\n",
              "    </div>\n",
              "  </div>\n",
              "  "
            ]
          },
          "metadata": {},
          "execution_count": 31
        }
      ]
    },
    {
      "cell_type": "code",
      "source": [
        "print(olympics.isnull().sum())\n"
      ],
      "metadata": {
        "colab": {
          "base_uri": "https://localhost:8080/"
        },
        "id": "IuAU-NYAmKNQ",
        "outputId": "209ce743-8551-46c7-b8c3-caa8acc25620"
      },
      "execution_count": 32,
      "outputs": [
        {
          "output_type": "stream",
          "name": "stdout",
          "text": [
            "ID            0\n",
            "Name          0\n",
            "Sex           0\n",
            "Age        2931\n",
            "Height    17465\n",
            "Weight    18377\n",
            "Team          1\n",
            "NOC           1\n",
            "Games         1\n",
            "Year          1\n",
            "Season        1\n",
            "City          1\n",
            "Sport         1\n",
            "Event         1\n",
            "Medal     65007\n",
            "dtype: int64\n"
          ]
        }
      ]
    },
    {
      "cell_type": "code",
      "source": [
        "olympics['Medal'].fillna('DNW', inplace = True)"
      ],
      "metadata": {
        "id": "p6LkBdiomRFN"
      },
      "execution_count": 33,
      "outputs": []
    },
    {
      "cell_type": "code",
      "source": [
        "print(olympics.loc[:, ['NOC', 'Team']].drop_duplicates()['NOC'].value_counts().head())"
      ],
      "metadata": {
        "colab": {
          "base_uri": "https://localhost:8080/"
        },
        "id": "bzwoIkXOmVgW",
        "outputId": "77878c9c-c6e8-4b47-8e54-fc4806e9c5f1"
      },
      "execution_count": 34,
      "outputs": [
        {
          "output_type": "stream",
          "name": "stdout",
          "text": [
            "FRA    92\n",
            "GBR    70\n",
            "USA    56\n",
            "NOR    36\n",
            "SWE    28\n",
            "Name: NOC, dtype: int64\n"
          ]
        }
      ]
    },
    {
      "cell_type": "code",
      "source": [
        "noc_country = pd.read_csv('noc_regions.csv')\n",
        "noc_country.drop('notes', axis = 1 , inplace = True)\n",
        "noc_country.rename(columns = {'region':'Country'}, inplace = True)\n",
        "\n",
        "noc_country.head()"
      ],
      "metadata": {
        "colab": {
          "base_uri": "https://localhost:8080/",
          "height": 206
        },
        "id": "-_muff3jmZdh",
        "outputId": "0f9b9218-631a-4f0f-cbc5-27175149aab2"
      },
      "execution_count": 35,
      "outputs": [
        {
          "output_type": "execute_result",
          "data": {
            "text/plain": [
              "   NOC      Country\n",
              "0  AFG  Afghanistan\n",
              "1  AHO      Curacao\n",
              "2  ALB      Albania\n",
              "3  ALG      Algeria\n",
              "4  AND      Andorra"
            ],
            "text/html": [
              "\n",
              "  <div id=\"df-9661bfbf-71e8-462c-8be0-1786a01a9223\">\n",
              "    <div class=\"colab-df-container\">\n",
              "      <div>\n",
              "<style scoped>\n",
              "    .dataframe tbody tr th:only-of-type {\n",
              "        vertical-align: middle;\n",
              "    }\n",
              "\n",
              "    .dataframe tbody tr th {\n",
              "        vertical-align: top;\n",
              "    }\n",
              "\n",
              "    .dataframe thead th {\n",
              "        text-align: right;\n",
              "    }\n",
              "</style>\n",
              "<table border=\"1\" class=\"dataframe\">\n",
              "  <thead>\n",
              "    <tr style=\"text-align: right;\">\n",
              "      <th></th>\n",
              "      <th>NOC</th>\n",
              "      <th>Country</th>\n",
              "    </tr>\n",
              "  </thead>\n",
              "  <tbody>\n",
              "    <tr>\n",
              "      <th>0</th>\n",
              "      <td>AFG</td>\n",
              "      <td>Afghanistan</td>\n",
              "    </tr>\n",
              "    <tr>\n",
              "      <th>1</th>\n",
              "      <td>AHO</td>\n",
              "      <td>Curacao</td>\n",
              "    </tr>\n",
              "    <tr>\n",
              "      <th>2</th>\n",
              "      <td>ALB</td>\n",
              "      <td>Albania</td>\n",
              "    </tr>\n",
              "    <tr>\n",
              "      <th>3</th>\n",
              "      <td>ALG</td>\n",
              "      <td>Algeria</td>\n",
              "    </tr>\n",
              "    <tr>\n",
              "      <th>4</th>\n",
              "      <td>AND</td>\n",
              "      <td>Andorra</td>\n",
              "    </tr>\n",
              "  </tbody>\n",
              "</table>\n",
              "</div>\n",
              "      <button class=\"colab-df-convert\" onclick=\"convertToInteractive('df-9661bfbf-71e8-462c-8be0-1786a01a9223')\"\n",
              "              title=\"Convert this dataframe to an interactive table.\"\n",
              "              style=\"display:none;\">\n",
              "        \n",
              "  <svg xmlns=\"http://www.w3.org/2000/svg\" height=\"24px\"viewBox=\"0 0 24 24\"\n",
              "       width=\"24px\">\n",
              "    <path d=\"M0 0h24v24H0V0z\" fill=\"none\"/>\n",
              "    <path d=\"M18.56 5.44l.94 2.06.94-2.06 2.06-.94-2.06-.94-.94-2.06-.94 2.06-2.06.94zm-11 1L8.5 8.5l.94-2.06 2.06-.94-2.06-.94L8.5 2.5l-.94 2.06-2.06.94zm10 10l.94 2.06.94-2.06 2.06-.94-2.06-.94-.94-2.06-.94 2.06-2.06.94z\"/><path d=\"M17.41 7.96l-1.37-1.37c-.4-.4-.92-.59-1.43-.59-.52 0-1.04.2-1.43.59L10.3 9.45l-7.72 7.72c-.78.78-.78 2.05 0 2.83L4 21.41c.39.39.9.59 1.41.59.51 0 1.02-.2 1.41-.59l7.78-7.78 2.81-2.81c.8-.78.8-2.07 0-2.86zM5.41 20L4 18.59l7.72-7.72 1.47 1.35L5.41 20z\"/>\n",
              "  </svg>\n",
              "      </button>\n",
              "      \n",
              "  <style>\n",
              "    .colab-df-container {\n",
              "      display:flex;\n",
              "      flex-wrap:wrap;\n",
              "      gap: 12px;\n",
              "    }\n",
              "\n",
              "    .colab-df-convert {\n",
              "      background-color: #E8F0FE;\n",
              "      border: none;\n",
              "      border-radius: 50%;\n",
              "      cursor: pointer;\n",
              "      display: none;\n",
              "      fill: #1967D2;\n",
              "      height: 32px;\n",
              "      padding: 0 0 0 0;\n",
              "      width: 32px;\n",
              "    }\n",
              "\n",
              "    .colab-df-convert:hover {\n",
              "      background-color: #E2EBFA;\n",
              "      box-shadow: 0px 1px 2px rgba(60, 64, 67, 0.3), 0px 1px 3px 1px rgba(60, 64, 67, 0.15);\n",
              "      fill: #174EA6;\n",
              "    }\n",
              "\n",
              "    [theme=dark] .colab-df-convert {\n",
              "      background-color: #3B4455;\n",
              "      fill: #D2E3FC;\n",
              "    }\n",
              "\n",
              "    [theme=dark] .colab-df-convert:hover {\n",
              "      background-color: #434B5C;\n",
              "      box-shadow: 0px 1px 3px 1px rgba(0, 0, 0, 0.15);\n",
              "      filter: drop-shadow(0px 1px 2px rgba(0, 0, 0, 0.3));\n",
              "      fill: #FFFFFF;\n",
              "    }\n",
              "  </style>\n",
              "\n",
              "      <script>\n",
              "        const buttonEl =\n",
              "          document.querySelector('#df-9661bfbf-71e8-462c-8be0-1786a01a9223 button.colab-df-convert');\n",
              "        buttonEl.style.display =\n",
              "          google.colab.kernel.accessAllowed ? 'block' : 'none';\n",
              "\n",
              "        async function convertToInteractive(key) {\n",
              "          const element = document.querySelector('#df-9661bfbf-71e8-462c-8be0-1786a01a9223');\n",
              "          const dataTable =\n",
              "            await google.colab.kernel.invokeFunction('convertToInteractive',\n",
              "                                                     [key], {});\n",
              "          if (!dataTable) return;\n",
              "\n",
              "          const docLinkHtml = 'Like what you see? Visit the ' +\n",
              "            '<a target=\"_blank\" href=https://colab.research.google.com/notebooks/data_table.ipynb>data table notebook</a>'\n",
              "            + ' to learn more about interactive tables.';\n",
              "          element.innerHTML = '';\n",
              "          dataTable['output_type'] = 'display_data';\n",
              "          await google.colab.output.renderOutput(dataTable, element);\n",
              "          const docLink = document.createElement('div');\n",
              "          docLink.innerHTML = docLinkHtml;\n",
              "          element.appendChild(docLink);\n",
              "        }\n",
              "      </script>\n",
              "    </div>\n",
              "  </div>\n",
              "  "
            ]
          },
          "metadata": {},
          "execution_count": 35
        }
      ]
    },
    {
      "cell_type": "code",
      "source": [
        "merged = pd.merge(olympics, noc_country, on='NOC', how='left')\n",
        "print(merged.head())"
      ],
      "metadata": {
        "colab": {
          "base_uri": "https://localhost:8080/"
        },
        "id": "PMFTrsIzmphA",
        "outputId": "5e584ca9-d276-4e12-fdbd-77cb06f86974"
      },
      "execution_count": 36,
      "outputs": [
        {
          "output_type": "stream",
          "name": "stdout",
          "text": [
            "   ID                      Name Sex   Age  Height  Weight            Team  \\\n",
            "0   1                 A Dijiang   M  24.0   180.0    80.0           China   \n",
            "1   2                  A Lamusi   M  23.0   170.0    60.0           China   \n",
            "2   3       Gunnar Nielsen Aaby   M  24.0     NaN     NaN         Denmark   \n",
            "3   4      Edgar Lindenau Aabye   M  34.0     NaN     NaN  Denmark/Sweden   \n",
            "4   5  Christine Jacoba Aaftink   F  21.0   185.0    82.0     Netherlands   \n",
            "\n",
            "   NOC        Games    Year  Season       City          Sport  \\\n",
            "0  CHN  1992 Summer  1992.0  Summer  Barcelona     Basketball   \n",
            "1  CHN  2012 Summer  2012.0  Summer     London           Judo   \n",
            "2  DEN  1920 Summer  1920.0  Summer  Antwerpen       Football   \n",
            "3  DEN  1900 Summer  1900.0  Summer      Paris     Tug-Of-War   \n",
            "4  NED  1988 Winter  1988.0  Winter    Calgary  Speed Skating   \n",
            "\n",
            "                              Event Medal      Country  \n",
            "0       Basketball Men's Basketball   DNW        China  \n",
            "1      Judo Men's Extra-Lightweight   DNW        China  \n",
            "2           Football Men's Football   DNW      Denmark  \n",
            "3       Tug-Of-War Men's Tug-Of-War  Gold      Denmark  \n",
            "4  Speed Skating Women's 500 metres   DNW  Netherlands  \n"
          ]
        }
      ]
    },
    {
      "cell_type": "code",
      "source": [
        "#Number of gold medals\n",
        "goldMedals = merged[(merged.Medal == 'Gold')]\n",
        "print(goldMedals.head())"
      ],
      "metadata": {
        "colab": {
          "base_uri": "https://localhost:8080/"
        },
        "id": "KBK-N997ng85",
        "outputId": "2cba51cb-b324-4338-ccba-59d2d0a8f95b"
      },
      "execution_count": 37,
      "outputs": [
        {
          "output_type": "stream",
          "name": "stdout",
          "text": [
            "    ID                     Name Sex   Age  Height  Weight            Team  \\\n",
            "3    4     Edgar Lindenau Aabye   M  34.0     NaN     NaN  Denmark/Sweden   \n",
            "42  17  Paavo Johannes Aaltonen   M  28.0   175.0    64.0         Finland   \n",
            "44  17  Paavo Johannes Aaltonen   M  28.0   175.0    64.0         Finland   \n",
            "48  17  Paavo Johannes Aaltonen   M  28.0   175.0    64.0         Finland   \n",
            "60  20       Kjetil Andr Aamodt   M  20.0   176.0    85.0          Norway   \n",
            "\n",
            "    NOC        Games    Year  Season         City          Sport  \\\n",
            "3   DEN  1900 Summer  1900.0  Summer        Paris     Tug-Of-War   \n",
            "42  FIN  1948 Summer  1948.0  Summer       London     Gymnastics   \n",
            "44  FIN  1948 Summer  1948.0  Summer       London     Gymnastics   \n",
            "48  FIN  1948 Summer  1948.0  Summer       London     Gymnastics   \n",
            "60  NOR  1992 Winter  1992.0  Winter  Albertville  Alpine Skiing   \n",
            "\n",
            "                               Event Medal  Country  \n",
            "3        Tug-Of-War Men's Tug-Of-War  Gold  Denmark  \n",
            "42  Gymnastics Men's Team All-Around  Gold  Finland  \n",
            "44      Gymnastics Men's Horse Vault  Gold  Finland  \n",
            "48  Gymnastics Men's Pommelled Horse  Gold  Finland  \n",
            "60       Alpine Skiing Men's Super G  Gold   Norway  \n"
          ]
        }
      ]
    },
    {
      "cell_type": "code",
      "source": [
        "#Gold medals respective of age\n",
        "sns.countplot(goldMedals['Age'])"
      ],
      "metadata": {
        "colab": {
          "base_uri": "https://localhost:8080/",
          "height": 357
        },
        "id": "DBWRDnmVnvRE",
        "outputId": "03c7cb10-f599-4287-ecc0-b8f871bc78bd"
      },
      "execution_count": 38,
      "outputs": [
        {
          "output_type": "stream",
          "name": "stderr",
          "text": [
            "/usr/local/lib/python3.8/dist-packages/seaborn/_decorators.py:36: FutureWarning: Pass the following variable as a keyword arg: x. From version 0.12, the only valid positional argument will be `data`, and passing other arguments without an explicit keyword will result in an error or misinterpretation.\n",
            "  warnings.warn(\n"
          ]
        },
        {
          "output_type": "execute_result",
          "data": {
            "text/plain": [
              "<matplotlib.axes._subplots.AxesSubplot at 0x7fd8d4713310>"
            ]
          },
          "metadata": {},
          "execution_count": 38
        },
        {
          "output_type": "display_data",
          "data": {
            "text/plain": [
              "<Figure size 432x288 with 1 Axes>"
            ],
            "image/png": "[encoded data removed]"
          },
          "metadata": {}
        }
      ]
    },
    {
      "cell_type": "code",
      "source": [
        "#Women who can play in summer\n",
        "womenInOlympics = merged[(merged.Sex == 'F') &\n",
        "                         (merged.Season == 'Summer')]\n",
        "print(womenInOlympics.head(10))\n",
        " \n",
        "sns.set(style=\"darkgrid\")\n",
        "sns.countplot(x='Year', data=womenInOlympics)"
      ],
      "metadata": {
        "colab": {
          "base_uri": "https://localhost:8080/",
          "height": 1000
        },
        "id": "b3opwR7ZoOfw",
        "outputId": "3baad7dc-1de4-41a8-f342-8acdb7fdde9b"
      },
      "execution_count": 39,
      "outputs": [
        {
          "output_type": "stream",
          "name": "stdout",
          "text": [
            "     ID                                Name Sex   Age  Height  Weight  \\\n",
            "26    8  Cornelia \"Cor\" Aalten (-Strannood)   F  18.0   168.0     NaN   \n",
            "27    8  Cornelia \"Cor\" Aalten (-Strannood)   F  18.0   168.0     NaN   \n",
            "32   13                  Minna Maarit Aalto   F  30.0   159.0    55.5   \n",
            "33   13                  Minna Maarit Aalto   F  34.0   159.0    55.5   \n",
            "79   21           Ragnhild Margrethe Aamodt   F  27.0   163.0     NaN   \n",
            "80   22                       Andreea Aanei   F  22.0   170.0   125.0   \n",
            "91   29                Willemien Aardenburg   F  22.0     NaN     NaN   \n",
            "105  37                  Ann Kristin Aarnes   F  23.0   182.0    64.0   \n",
            "135  49                        Moonika Aava   F  24.0   168.0    65.0   \n",
            "136  49                        Moonika Aava   F  28.0   168.0    65.0   \n",
            "\n",
            "            Team  NOC        Games    Year  Season            City  \\\n",
            "26   Netherlands  NED  1932 Summer  1932.0  Summer     Los Angeles   \n",
            "27   Netherlands  NED  1932 Summer  1932.0  Summer     Los Angeles   \n",
            "32       Finland  FIN  1996 Summer  1996.0  Summer         Atlanta   \n",
            "33       Finland  FIN  2000 Summer  2000.0  Summer          Sydney   \n",
            "79        Norway  NOR  2008 Summer  2008.0  Summer         Beijing   \n",
            "80       Romania  ROU  2016 Summer  2016.0  Summer  Rio de Janeiro   \n",
            "91   Netherlands  NED  1988 Summer  1988.0  Summer           Seoul   \n",
            "105       Norway  NOR  1996 Summer  1996.0  Summer         Atlanta   \n",
            "135      Estonia  EST  2004 Summer  2004.0  Summer          Athina   \n",
            "136      Estonia  EST  2008 Summer  2008.0  Summer         Beijing   \n",
            "\n",
            "             Sport                                    Event   Medal  \\\n",
            "26       Athletics             Athletics Women's 100 metres     DNW   \n",
            "27       Athletics   Athletics Women's 4 x 100 metres Relay     DNW   \n",
            "32         Sailing               Sailing Women's Windsurfer     DNW   \n",
            "33         Sailing               Sailing Women's Windsurfer     DNW   \n",
            "79        Handball                Handball Women's Handball    Gold   \n",
            "80   Weightlifting  Weightlifting Women's Super-Heavyweight     DNW   \n",
            "91          Hockey                    Hockey Women's Hockey  Bronze   \n",
            "105       Football                Football Women's Football  Bronze   \n",
            "135      Athletics          Athletics Women's Javelin Throw     DNW   \n",
            "136      Athletics          Athletics Women's Javelin Throw     DNW   \n",
            "\n",
            "         Country  \n",
            "26   Netherlands  \n",
            "27   Netherlands  \n",
            "32       Finland  \n",
            "33       Finland  \n",
            "79        Norway  \n",
            "80       Romania  \n",
            "91   Netherlands  \n",
            "105       Norway  \n",
            "135      Estonia  \n",
            "136      Estonia  \n"
          ]
        },
        {
          "output_type": "execute_result",
          "data": {
            "text/plain": [
              "<matplotlib.axes._subplots.AxesSubplot at 0x7fd8d589c3d0>"
            ]
          },
          "metadata": {},
          "execution_count": 39
        },
        {
          "output_type": "display_data",
          "data": {
            "text/plain": [
              "<Figure size 432x288 with 1 Axes>"
            ],
            "image/png": "[encoded data removed]"
          },
          "metadata": {}
        }
      ]
    },
    {
      "cell_type": "code",
      "source": [
        "#Top  5 countries who won the most medals\n",
        "goldMedals = merged[(merged.Medal == 'Gold')]\n",
        "print(goldMedals.Country.value_counts().reset_index(name='Medal').head())\n",
        " \n",
        "totalGoldMedals = goldMedals.Country.value_counts().reset_index(name='Medal').head(5)\n",
        "g = sns.catplot(x=\"index\", y=\"Medal\", data=totalGoldMedals,\n",
        "                height=6, kind=\"bar\", palette=\"muted\")\n",
        "g.despine(left=True)\n",
        "g.set_xlabels(\"Top 5 countries\")\n",
        "g.set_ylabels(\"Number of Medals\")\n",
        "plt.title('Medals per Country')\n",
        "plt.show()"
      ],
      "metadata": {
        "colab": {
          "base_uri": "https://localhost:8080/",
          "height": 557
        },
        "id": "QpT4b64Fo7GP",
        "outputId": "04472f17-ed1a-4fd7-dd85-f4625332938d"
      },
      "execution_count": 45,
      "outputs": [
        {
          "output_type": "stream",
          "name": "stdout",
          "text": [
            "     index  Medal\n",
            "0      USA    815\n",
            "1   Russia    324\n",
            "2  Germany    304\n",
            "3    Italy    243\n",
            "4       UK    220\n"
          ]
        },
        {
          "output_type": "display_data",
          "data": {
            "text/plain": [
              "<Figure size 432x432 with 1 Axes>"
            ],
            "image/png": "[encoded data removed]"
          },
          "metadata": {}
        }
      ]
    },
    {
      "cell_type": "code",
      "source": [
        "#Players weight analysis\n",
        "\n",
        "MenOverTime = merged[(merged.Sex == 'M') &\n",
        "                     (merged.Season == 'Summer')]\n",
        "wlMenOverTime = MenOverTime.loc[MenOverTime['Sport'] == 'Weightlifting']\n",
        " \n",
        "plt.figure(figsize=(20, 10))\n",
        "sns.pointplot('Year', 'Weight', data=wlMenOverTime, palette='Set2')\n",
        "plt.title('Weight over year for Male Lifters')\n",
        "plt.show()"
      ],
      "metadata": {
        "colab": {
          "base_uri": "https://localhost:8080/",
          "height": 682
        },
        "id": "VsJVarEAp3gE",
        "outputId": "88191215-92d0-44bf-d062-a2e78a1d78b8"
      },
      "execution_count": 46,
      "outputs": [
        {
          "output_type": "stream",
          "name": "stderr",
          "text": [
            "/usr/local/lib/python3.8/dist-packages/seaborn/_decorators.py:36: FutureWarning: Pass the following variables as keyword args: x, y. From version 0.12, the only valid positional argument will be `data`, and passing other arguments without an explicit keyword will result in an error or misinterpretation.\n",
            "  warnings.warn(\n"
          ]
        },
        {
          "output_type": "display_data",
          "data": {
            "text/plain": [
              "<Figure size 1440x720 with 1 Axes>"
            ],
            "image/png": "[encoded data removed]"
          },
          "metadata": {}
        }
      ]
    }
  ]
}